{
 "cells": [
  {
   "cell_type": "markdown",
   "metadata": {},
   "source": [
    "##Functions\n",
    "block of program which gives output"
   ]
  },
  {
   "cell_type": "code",
   "execution_count": null,
   "metadata": {},
   "outputs": [
    {
     "name": "stdout",
     "output_type": "stream",
     "text": [
      "560\n"
     ]
    }
   ],
   "source": [
    "def my_func(a): # creating function\n",
    "    print(70*a);\n",
    "my_func(8)  ## calling function"
   ]
  },
  {
   "cell_type": "markdown",
   "metadata": {},
   "source": [
    "#Built IN Functions"
   ]
  },
  {
   "cell_type": "code",
   "execution_count": null,
   "metadata": {},
   "outputs": [],
   "source": [
    "a = [1,2,3,4,45,5.6,66];\n",
    "b= (2,3,42,32,7,6);\n",
    "c = {'a':2 , 'b':3, 'd':4};\n",
    "print(len(a))  # to get length of list,tuple , dictionaries\n",
    "print(sum(a),sum(b),sum(c.values()));  # to get sum of list and tuple\n",
    "print(sorted(a), sorted(b), sorted(c.values()));   # sort list and tuple  and create a new list\n",
    "print(sorted(c.keys()));\n",
    "a.sort();  # sort list tuple only without creating a new list\n",
    "print(a)"
   ]
  },
  {
   "cell_type": "code",
   "execution_count": null,
   "metadata": {},
   "outputs": [],
   "source": [
    "def func(a,b):\n",
    "    \"\"\"\n",
    "    add a and b    # adding documentation;\n",
    "    \"\"\"\n",
    "    return a+b;\n",
    "\n",
    "print(func(3,4));"
   ]
  },
  {
   "cell_type": "code",
   "execution_count": null,
   "metadata": {},
   "outputs": [],
   "source": [
    "def empty():\n",
    "    pass  # if any function leave blank put pass keyword so it won't throw error\n",
    "print(empty())\n",
    "\n",
    "def collecting(*arr):\n",
    "    for i in arr:\n",
    "        print(i+3);\n",
    "\n",
    "print(collecting(2,3,4,5))"
   ]
  },
  {
   "cell_type": "markdown",
   "metadata": {},
   "source": [
    "##Scope"
   ]
  },
  {
   "cell_type": "code",
   "execution_count": null,
   "metadata": {},
   "outputs": [
    {
     "name": "stdout",
     "output_type": "stream",
     "text": [
      "Hellodd\n"
     ]
    }
   ],
   "source": [
    "x = 'Hello';  ## global scope variable\n",
    "def func(y):\n",
    "    print(x+\"dd\");\n",
    "func(x)"
   ]
  },
  {
   "cell_type": "code",
   "execution_count": null,
   "metadata": {},
   "outputs": [
    {
     "name": "stdout",
     "output_type": "stream",
     "text": [
      "60\n",
      "20\n"
     ]
    }
   ],
   "source": [
    "x =0;\n",
    "def ad():\n",
    "    x =20;  ## Local Scope\n",
    "    print(x);\n",
    "\n",
    "x =60;\n",
    "\n",
    "print(x)\n",
    "ad();\n"
   ]
  },
  {
   "cell_type": "code",
   "execution_count": null,
   "metadata": {},
   "outputs": [],
   "source": []
  }
 ],
 "metadata": {
  "kernelspec": {
   "display_name": "Python 3",
   "language": "python",
   "name": "python3"
  },
  "language_info": {
   "codemirror_mode": {
    "name": "ipython",
    "version": 3
   },
   "file_extension": ".py",
   "mimetype": "text/x-python",
   "name": "python",
   "nbconvert_exporter": "python",
   "pygments_lexer": "ipython3",
   "version": "3.12.4"
  }
 },
 "nbformat": 4,
 "nbformat_minor": 2
}
