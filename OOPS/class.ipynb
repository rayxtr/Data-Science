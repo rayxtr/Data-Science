{
 "cells": [
  {
   "cell_type": "markdown",
   "id": "32dcc4c5",
   "metadata": {},
   "source": [
    "Class"
   ]
  },
  {
   "cell_type": "markdown",
   "id": "48b72d0b",
   "metadata": {},
   "source": [
    "## A class is a blueprint for creating Objects"
   ]
  },
  {
   "cell_type": "code",
   "execution_count": 1,
   "id": "f66cb092",
   "metadata": {},
   "outputs": [
    {
     "name": "stdout",
     "output_type": "stream",
     "text": [
      "10\n"
     ]
    }
   ],
   "source": [
    "class myclass:\n",
    "    x =10;\n",
    "p1 =myclass();\n",
    "print(p1.x)"
   ]
  },
  {
   "cell_type": "code",
   "execution_count": 8,
   "id": "43a52efd",
   "metadata": {},
   "outputs": [
    {
     "name": "stdout",
     "output_type": "stream",
     "text": [
      "red\n",
      "31.400000000000002\n"
     ]
    }
   ],
   "source": [
    "import matplotlib.pyplot as plt\n",
    "\n",
    "class Circle:\n",
    "    def __init__(self, r, c):\n",
    "        self.radius = r\n",
    "        self.color = c\n",
    "\n",
    "    def add(self, r):\n",
    "        self.radius = r\n",
    "        return 2 * 3.14 * r\n",
    "\n",
    "    \n",
    "\n",
    "c1 = Circle(10, 'red')\n",
    "print(c1.color)\n",
    "p = c1.add(5)\n",
    "print(p)\n",
    "\n",
    "\n"
   ]
  },
  {
   "cell_type": "markdown",
   "id": "21862d57",
   "metadata": {},
   "source": [
    "## Instance Variable vs Class Variable\n",
    " * Instance Variable defined using self. it is unique to each object\n",
    " * Class variable shared among all objects . It is declared outside  __init__ () "
   ]
  },
  {
   "cell_type": "code",
   "execution_count": null,
   "id": "f59f05e7",
   "metadata": {},
   "outputs": [
    {
     "name": "stdout",
     "output_type": "stream",
     "text": [
      "madhu , species human work is developer\n"
     ]
    }
   ],
   "source": [
    "class Person:\n",
    "    species=\"human\"  # Class Variable\n",
    "    def __init__(self,name,work):\n",
    "           self.name = name    # Instance Variable\n",
    "           self.work = work    # Instance Variable\n",
    "\n",
    "p1 = Person(\"madhu\",\"developer\")       \n",
    "p2 = Person(\"ashwin\",\"accountant\")\n",
    "\n",
    "print(f\"{p1.name} , species {Person.species} work is {p1.work}\")"
   ]
  },
  {
   "cell_type": "markdown",
   "id": "2a8e182b",
   "metadata": {},
   "source": [
    "# What is __init__()\n",
    "* It is a special method that initialize the object when it is created. it's like the setup that runs automatically"
   ]
  },
  {
   "cell_type": "markdown",
   "id": "f08e49e8",
   "metadata": {},
   "source": []
  }
 ],
 "metadata": {
  "kernelspec": {
   "display_name": "Python 3",
   "language": "python",
   "name": "python3"
  },
  "language_info": {
   "codemirror_mode": {
    "name": "ipython",
    "version": 3
   },
   "file_extension": ".py",
   "mimetype": "text/x-python",
   "name": "python",
   "nbconvert_exporter": "python",
   "pygments_lexer": "ipython3",
   "version": "3.13.2"
  }
 },
 "nbformat": 4,
 "nbformat_minor": 5
}
