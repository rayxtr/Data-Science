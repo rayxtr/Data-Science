{
 "cells": [
  {
   "cell_type": "markdown",
   "id": "4ff3aaf7",
   "metadata": {},
   "source": [
    "# Encapsulation\n",
    "* Encapsulation means hiding the internal state of an object and only allowing it to be accessed through public methods.\n",
    "> It protects an object's internal data from ouside interference or misuse.\n",
    ">> Control how data is accessed or modified\n",
    "> pRevent accidental changes to critical data.\n",
    "> Improve Security and modularity"
   ]
  },
  {
   "cell_type": "markdown",
   "id": "6a85f25e",
   "metadata": {},
   "source": [
    "# Access Modifier \n",
    "* Public - self.name   - can be accessed any where\n",
    "* Protected - self._name - access within the class or Subclass\n",
    "* private - selft.__name - only for internal use"
   ]
  },
  {
   "cell_type": "code",
   "execution_count": 1,
   "id": "3132600c",
   "metadata": {},
   "outputs": [
    {
     "name": "stdout",
     "output_type": "stream",
     "text": [
      "kalu\n"
     ]
    }
   ],
   "source": [
    "# Example Public\n",
    "class Person:\n",
    "    def __init__(self,name):\n",
    "        self.name = name\n",
    "\n",
    "p1  = Person(\"kalu\")                \n",
    "print(p1.name)"
   ]
  },
  {
   "cell_type": "code",
   "execution_count": 5,
   "id": "8cfa0fba",
   "metadata": {},
   "outputs": [
    {
     "data": {
      "text/plain": [
       "'Ravi'"
      ]
     },
     "execution_count": 5,
     "metadata": {},
     "output_type": "execute_result"
    }
   ],
   "source": [
    "#Example Protected\n",
    "class Student:\n",
    "    def __init__(self,name):\n",
    "        self._name = name\n",
    "\n",
    "class sub(Student):\n",
    "    def show(self):\n",
    "        return self._name\n",
    "        \n",
    "\n",
    "S = sub(\"Ravi\")\n",
    "S.show()"
   ]
  },
  {
   "cell_type": "code",
   "execution_count": 10,
   "id": "0264a63e",
   "metadata": {},
   "outputs": [
    {
     "name": "stdout",
     "output_type": "stream",
     "text": [
      "2400\n"
     ]
    }
   ],
   "source": [
    "#Example Private\n",
    "class BankAccount:\n",
    "    def __init__(self,balance):\n",
    "        self.__balance = balance\n",
    "\n",
    "    def deposite(self, amount):\n",
    "      self.__balance+=amount        \n",
    "\n",
    "    def getbalance(self):\n",
    "     return self.__balance\n",
    "\n",
    "acc= BankAccount(1200)\n",
    "v= acc.getbalance()\n",
    "acc.deposite(1200)\n",
    "print(acc.getbalance())"
   ]
  },
  {
   "cell_type": "markdown",
   "id": "571de4e0",
   "metadata": {},
   "source": [
    "# Note\n",
    "* Python does not enforce access modifiers like Java or C++.\n",
    "\n",
    "Instead, it follows a philosophy: “We are all consenting adults here.”\n",
    "It is private but not private we can make it private by making it restricted "
   ]
  },
  {
   "cell_type": "markdown",
   "id": "58ee5aa5",
   "metadata": {},
   "source": []
  }
 ],
 "metadata": {
  "kernelspec": {
   "display_name": "Python 3",
   "language": "python",
   "name": "python3"
  },
  "language_info": {
   "codemirror_mode": {
    "name": "ipython",
    "version": 3
   },
   "file_extension": ".py",
   "mimetype": "text/x-python",
   "name": "python",
   "nbconvert_exporter": "python",
   "pygments_lexer": "ipython3",
   "version": "3.13.2"
  }
 },
 "nbformat": 4,
 "nbformat_minor": 5
}
