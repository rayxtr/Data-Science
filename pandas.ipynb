{
 "cells": [
  {
   "cell_type": "markdown",
   "id": "4c3a8bad",
   "metadata": {},
   "source": [
    "##Pandas :: Loading"
   ]
  },
  {
   "cell_type": "markdown",
   "id": "0f83db65",
   "metadata": {},
   "source": [
    "Pandas is a popular library for data analysis.\n",
    "we can import pandas by using import command \n",
    "import pandas  --"
   ]
  },
  {
   "cell_type": "code",
   "execution_count": 27,
   "id": "07e0d62b",
   "metadata": {},
   "outputs": [
    {
     "name": "stdout",
     "output_type": "stream",
     "text": [
      "      Album  Year\n",
      "0  Believer  2018\n",
      "1     Masti  2020\n",
      "2  Fade way  2009\n",
      "      Album\n",
      "0  Believer\n",
      "1     Masti\n",
      "2  Fade way\n",
      "P-00089\n",
      "MARMUL FALCON TRADE & Co\n",
      "Believer\n"
     ]
    }
   ],
   "source": [
    "import pandas as pd;\n",
    "\n",
    "df = pd.read_excel('file1.xlsx');   # using pandas method read_excel to read excel files\n",
    "x = df[['Customer']]  #pick one column \n",
    "\n",
    "# print(df.head());\n",
    "\n",
    "album = {\n",
    "    'Album':['Believer','Masti','Fade way'],\n",
    "    'Year':['2018','2020','2009']\n",
    "\n",
    "}\n",
    "songs_info = pd.DataFrame(album)\n",
    "print(songs_info)\n",
    "y = songs_info[['Album']];  # take one or multiple column to make a different dataframe from an existing dataFrame or file\n",
    "print(y)\n",
    "\n",
    "#iloc[r,c]  method to get value from specific row or column  r - row number c is column number;\n",
    "print(df.iloc[0,1])\n",
    "print(df.loc[3,'Customer'])\n",
    "songs_infos = songs_info\n",
    "songs_infos.index=[\"a\",\"b\",\"c\"]  # changing index of a dataframe \n",
    "print(songs_infos.loc['a','Album'])"
   ]
  },
  {
   "cell_type": "code",
   "execution_count": null,
   "id": "83438a76",
   "metadata": {},
   "outputs": [],
   "source": []
  }
 ],
 "metadata": {
  "kernelspec": {
   "display_name": "Python 3",
   "language": "python",
   "name": "python3"
  },
  "language_info": {
   "codemirror_mode": {
    "name": "ipython",
    "version": 3
   },
   "file_extension": ".py",
   "mimetype": "text/x-python",
   "name": "python",
   "nbconvert_exporter": "python",
   "pygments_lexer": "ipython3",
   "version": "3.13.2"
  }
 },
 "nbformat": 4,
 "nbformat_minor": 5
}
