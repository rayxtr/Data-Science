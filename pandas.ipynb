{
 "cells": [
  {
   "cell_type": "markdown",
   "id": "4c3a8bad",
   "metadata": {},
   "source": [
    "##Pandas :: Loading"
   ]
  },
  {
   "cell_type": "markdown",
   "id": "0f83db65",
   "metadata": {},
   "source": [
    "Pandas is a popular library for data analysis.\n",
    "we can import pandas by using import command \n",
    "import pandas  --"
   ]
  },
  {
   "cell_type": "code",
   "execution_count": null,
   "id": "07e0d62b",
   "metadata": {},
   "outputs": [],
   "source": [
    "import pandas as pd;\n",
    "\n",
    "df = pd.read_excel('file1.xlsx');   # using pandas method read_excel to read excel files\n",
    "x = df[['Customer']]  #pick one column \n",
    "\n",
    "# print(df.head());\n",
    "\n",
    "album = {\n",
    "    'Album':['Believer','Masti','Fade way'],\n",
    "    'Year':['2018','2020','2009']\n",
    "\n",
    "}\n",
    "songs_info = pd.DataFrame(album)\n",
    "print(songs_info)\n",
    "y = songs_info[['Album']];  # take one or multiple column to make a different dataframe from an existing dataFrame or file\n",
    "print(y)\n",
    "\n",
    "#iloc[r,c]  method to get value from specific row or column  r - row number c is column number;\n",
    "print(df.iloc[0,1])\n",
    "print(df.loc[3,'Customer'])\n",
    "songs_infos = songs_info\n",
    "songs_infos.index=[\"a\",\"b\",\"c\"]  # changing index of a dataframe \n",
    "print(songs_infos.loc['a','Album'])\n",
    "print(df.iloc[4,3])"
   ]
  },
  {
   "cell_type": "markdown",
   "id": "83438a76",
   "metadata": {},
   "source": [
    "## Pandas : Woking With and Saving Data|||\n"
   ]
  },
  {
   "cell_type": "code",
   "execution_count": 2,
   "id": "6f49e93f",
   "metadata": {},
   "outputs": [
    {
     "name": "stdout",
     "output_type": "stream",
     "text": [
      "44.839011583111116 - 9.002 - 0    1.872072\n",
      "Name: Price, dtype: float64\n"
     ]
    }
   ],
   "source": [
    "import pandas as pd\n",
    "fs = pd.read_excel('file3.xlsx');\n",
    "value = fs[fs['Price']>20];   # Giving a specific conditons to get specific range values.\n",
    "value2 = fs[fs['Price']<20];\n",
    "\n",
    "value.to_excel('Less then 20.xlsx')\n",
    "value2.to_excel('Greater20.xlsx')\n",
    "value.to_csv('Greater20')\n",
    "pmean = fs['Price'].mean();\n",
    "pmedian = fs['Price'].median();\n",
    "pmode = fs['Price'].mode();\n",
    "print(pmean, '-' , pmedian, '-' ,pmode)"
   ]
  },
  {
   "cell_type": "code",
   "execution_count": null,
   "id": "4607143c",
   "metadata": {},
   "outputs": [],
   "source": []
  }
 ],
 "metadata": {
  "kernelspec": {
   "display_name": "Python 3",
   "language": "python",
   "name": "python3"
  },
  "language_info": {
   "codemirror_mode": {
    "name": "ipython",
    "version": 3
   },
   "file_extension": ".py",
   "mimetype": "text/x-python",
   "name": "python",
   "nbconvert_exporter": "python",
   "pygments_lexer": "ipython3",
   "version": "3.13.2"
  }
 },
 "nbformat": 4,
 "nbformat_minor": 5
}
