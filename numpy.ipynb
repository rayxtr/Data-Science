{
 "cells": [
  {
   "cell_type": "markdown",
   "id": "95660f01",
   "metadata": {},
   "source": [
    "##NUMPY\n",
    "\n",
    "numpy aims to provide  an array  object that is upto 50 x faster than traditional lists.\n",
    "Numpy arrays are stored at one continous place in memory unlike lists so processes can access and manipulate them very efficiently."
   ]
  },
  {
   "cell_type": "code",
   "execution_count": 1,
   "id": "0ddaa2d3",
   "metadata": {},
   "outputs": [],
   "source": [
    "import numpy as np;\n",
    "a = np.array([1,2,22,3])"
   ]
  },
  {
   "cell_type": "code",
   "execution_count": 2,
   "id": "e8c9679b",
   "metadata": {},
   "outputs": [
    {
     "name": "stdout",
     "output_type": "stream",
     "text": [
      "0\n",
      "7\n",
      "14\n",
      "21\n"
     ]
    }
   ],
   "source": [
    "for i in range (len(a)):\n",
    "    print(i*7)"
   ]
  },
  {
   "cell_type": "code",
   "execution_count": null,
   "id": "ee850ea3",
   "metadata": {},
   "outputs": [
    {
     "name": "stdout",
     "output_type": "stream",
     "text": [
      "2D Array:\n",
      " [[1 2]\n",
      " [3 4]]\n",
      "Element at row 0, column 1: 2\n",
      "Addition: [11 22 33]\n",
      "Multiplication: [10 40 90]\n",
      "Mean of a: 20.0\n"
     ]
    }
   ],
   "source": [
    "import numpy as np;\n",
    "# Create a 2D array\n",
    "matrix = np.array([[1, 2], [3, 4]])\n",
    "print(\"2D Array:\\n\", matrix)\n",
    "\n",
    "# Accessing elements\n",
    "print(\"Element at row 0, column 1:\", matrix[0, 1])  # Output: 2\n",
    "a = np.array([10, 20, 30])\n",
    "b = np.array([1, 2, 3])\n",
    "\n",
    "print(\"Addition:\", a + b)        # [11 22 33]\n",
    "print(\"Multiplication:\", a * b)  # [10 40 90]\n",
    "print(\"Mean of a:\", np.mean(a))  # 20.0\n",
    "\n"
   ]
  },
  {
   "cell_type": "code",
   "execution_count": 3,
   "id": "0ea22950",
   "metadata": {},
   "outputs": [
    {
     "name": "stdout",
     "output_type": "stream",
     "text": [
      "Random Matrix:\n",
      " [[0.79407155 0.11131069 0.84472858]\n",
      " [0.13567947 0.23658784 0.59871416]\n",
      " [0.13097096 0.09200227 0.62746072]]\n",
      "Reshaped Array:\n",
      " [[0 1 2]\n",
      " [3 4 5]\n",
      " [6 7 8]]\n"
     ]
    }
   ],
   "source": [
    "import numpy as np;\n",
    "# Create a 3x3 matrix with random values\n",
    "rand_matrix = np.random.rand(3, 3)\n",
    "print(\"Random Matrix:\\n\", rand_matrix)\n",
    "\n",
    "# Reshape a flat array to 2D\n",
    "flat = np.arange(9)\n",
    "reshaped = flat.reshape(3, 3)\n",
    "print(\"Reshaped Array:\\n\", reshaped)\n"
   ]
  },
  {
   "cell_type": "code",
   "execution_count": 4,
   "id": "d5221230",
   "metadata": {},
   "outputs": [
    {
     "name": "stdout",
     "output_type": "stream",
     "text": [
      "Filtered (greater than 15): [20 25]\n"
     ]
    }
   ],
   "source": [
    "import numpy as np;\n",
    "arr = np.array([5, 10, 15, 20, 25])\n",
    "filtered = arr[arr > 15]\n",
    "print(\"Filtered (greater than 15):\", filtered)  # [20 25]\n"
   ]
  },
  {
   "cell_type": "code",
   "execution_count": null,
   "id": "3edfca04",
   "metadata": {},
   "outputs": [],
   "source": []
  }
 ],
 "metadata": {
  "kernelspec": {
   "display_name": "Python 3",
   "language": "python",
   "name": "python3"
  },
  "language_info": {
   "codemirror_mode": {
    "name": "ipython",
    "version": 3
   },
   "file_extension": ".py",
   "mimetype": "text/x-python",
   "name": "python",
   "nbconvert_exporter": "python",
   "pygments_lexer": "ipython3",
   "version": "3.13.2"
  }
 },
 "nbformat": 4,
 "nbformat_minor": 5
}
