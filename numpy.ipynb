{
 "cells": [
  {
   "cell_type": "markdown",
   "id": "95660f01",
   "metadata": {},
   "source": [
    "##NUMPY\n",
    "\n",
    "numpy aims to provide  an array  object that is upto 50 x faster than traditional lists.\n",
    "Numpy arrays are stored at one continous place in memory unlike lists so processes can access and manipulate them very efficiently."
   ]
  },
  {
   "cell_type": "code",
   "execution_count": 1,
   "id": "0ddaa2d3",
   "metadata": {},
   "outputs": [],
   "source": [
    "import numpy as np;\n",
    "a = np.array([1,2,22,3])"
   ]
  },
  {
   "cell_type": "code",
   "execution_count": 2,
   "id": "e8c9679b",
   "metadata": {},
   "outputs": [
    {
     "name": "stdout",
     "output_type": "stream",
     "text": [
      "0\n",
      "7\n",
      "14\n",
      "21\n"
     ]
    }
   ],
   "source": [
    "for i in range (len(a)):\n",
    "    print(i*7)"
   ]
  },
  {
   "cell_type": "code",
   "execution_count": null,
   "id": "ee850ea3",
   "metadata": {},
   "outputs": [],
   "source": []
  }
 ],
 "metadata": {
  "kernelspec": {
   "display_name": "Python 3",
   "language": "python",
   "name": "python3"
  },
  "language_info": {
   "codemirror_mode": {
    "name": "ipython",
    "version": 3
   },
   "file_extension": ".py",
   "mimetype": "text/x-python",
   "name": "python",
   "nbconvert_exporter": "python",
   "pygments_lexer": "ipython3",
   "version": "3.13.2"
  }
 },
 "nbformat": 4,
 "nbformat_minor": 5
}
