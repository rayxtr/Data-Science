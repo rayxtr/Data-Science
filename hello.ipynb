{
 "cells": [
  {
   "cell_type": "code",
   "execution_count": 1,
   "metadata": {},
   "outputs": [],
   "source": [
    "a = 1;\n",
    "b=12.5;\n",
    "c = 'hello';\n",
    "type(a)  # know the data type \n",
    "int(b)  # conversion of data type\n",
    "float(a) \n",
    "str(a);\n"
   ]
  },
  {
   "cell_type": "markdown",
   "metadata": {},
   "source": [
    "## String Operations"
   ]
  },
  {
   "cell_type": "code",
   "execution_count": 2,
   "metadata": {},
   "outputs": [
    {
     "name": "stdout",
     "output_type": "stream",
     "text": [
      " \n",
      "Hel\n",
      "HloIa \n",
      "Hlo\n",
      "12\n",
      "Hello I am XHello I am XHello I am X\n",
      "HELLO I AM X\n",
      "Hello I am Madhu\n",
      "11\n",
      "llo\n"
     ]
    }
   ],
   "source": [
    "l = 'Hello I am X';\n",
    "print(l[7]); #  get an character from string by index number;\n",
    "print(l[0:3]); # Slicing string from 0 index to 3 \n",
    "print(l[0::2]) ; # Stride -- starts from 0 and pick every 2nd character leave 1\n",
    "print(l[0:6:2]); #stride and slice together - slice from 0 to 6 and  pick every 2nd \n",
    "print(len(l)); # get length of string;\n",
    "print(3*l); # replicate value of string( repeat));\n",
    "s = l+ \"I am expert\"; # concate two string\n",
    "b = l.upper(); # convert string in capital\n",
    "print(b);\n",
    "c = l.replace(\"X\",\"Madhu\"); # replace any word \n",
    "print(c) \n",
    "print(c.find(\"Madhu\")); # find the index of word or character\n",
    "\n",
    "x = \"hello this is madhusudan amoli\";\n",
    "print(x[2:5]);\n",
    "\n",
    "\n",
    " \n"
   ]
  },
  {
   "cell_type": "markdown",
   "metadata": {},
   "source": [
    "## Tuples And Lists\n",
    "\n",
    "#Tuple - Ordered Sequence. written as comman(,) seperated elements within ().\n",
    "tuple can have different data type elements.\n",
    "type(tupl) will always a tuple.\n",
    "We can slice tuple like strings.\n",
    "tuples are Immutable like strings. we can't change them.\n"
   ]
  },
  {
   "cell_type": "code",
   "execution_count": null,
   "metadata": {},
   "outputs": [
    {
     "name": "stdout",
     "output_type": "stream",
     "text": [
      "hello\n",
      "2\n"
     ]
    }
   ],
   "source": [
    "a = (1,2,3,\"hello\",True);\n",
    "a[0]  # tuple elements can access by index number\n",
    "print(a[-2]);  # it can also use negative index.\n",
    "b= ((1,2),4,5);   # nesting of tuples.\n",
    "print(b[0][1]) # getting a value a tuple inside a tuple.\n"
   ]
  },
  {
   "cell_type": "markdown",
   "metadata": {},
   "source": [
    "##Lists\n",
    "Lists are also ordered sequences.\n",
    "Lists are mutable. \n",
    "WE can convert string into list by split() method\n",
    "we can give delimeter in split to split string by any sign \n",
    "eg. s.split()"
   ]
  },
  {
   "cell_type": "code",
   "execution_count": null,
   "metadata": {},
   "outputs": [],
   "source": [
    "l = [1,2,3,\"helo\",5]; # list\n",
    "l2 = [1,2,(2,4),[3,[4,4]],5];  #Nested\n",
    "print([l2[3][1][0]])\n",
    "l.extend([4,5]); # add elements;\n",
    "l.append('gh') # add elemetns;\n",
    "l[0] = 10; # change elements;\n",
    "s = \"hi, you are, idiot\";\n",
    "l3 = s.split(',');\n",
    "print(l3)\n",
    "a = l; # aliasing list  a and l are same what even change in one list will change parallel in second\n",
    "a[0] =11;\n",
    "print(l[0])\n",
    "print(a[3])\n",
    "b = [2,3,4,5];\n",
    "d = b[:]  # copy a list b now it will make a different copy of list b now if change in one list will not affect second\n",
    "d[0] = 20;\n",
    "print(b[0])\n",
    "help(d)"
   ]
  },
  {
   "cell_type": "markdown",
   "metadata": {},
   "source": [
    "## Dictionaries\n",
    "Collection of key -value pairs\n",
    "denoted by {}\n",
    "key must be unique and immutable and value can be duplicate and mutable"
   ]
  },
  {
   "cell_type": "code",
   "execution_count": 16,
   "metadata": {},
   "outputs": [
    {
     "name": "stdout",
     "output_type": "stream",
     "text": [
      "100\n",
      "{1: 100, 3: 400, 4: 'hello', 5: 899}\n",
      "True\n",
      "dict_keys([1, 3, 4, 5])\n",
      "dict_values([100, 400, 'hello', 899])\n"
     ]
    }
   ],
   "source": [
    "d = {1:100, 2:300,3:400,4:'hello',5:899};\n",
    "print(d[1])\n",
    "del(d[2]);  # delete any key value\n",
    "print(d)\n",
    "print(3 in d) # check if key exist in dictionaries\n",
    "print(d.keys()) # see all keys\n",
    "print(d.values()); # see all values"
   ]
  },
  {
   "cell_type": "markdown",
   "metadata": {},
   "source": [
    "## Sets\n",
    "type of collection of unordered elements also unique\n",
    "set = {1,4,5,6,8}\n",
    "can't contain duplicate\n",
    "Change a list into set\n",
    " by set() function\n",
    " "
   ]
  },
  {
   "cell_type": "code",
   "execution_count": 28,
   "metadata": {},
   "outputs": [
    {
     "name": "stdout",
     "output_type": "stream",
     "text": [
      "{1, 2, 4, 5}\n",
      "{'hello', 3, 4, 5, 12}\n",
      "False\n",
      "{4, 5}\n",
      "{'hello', 1, 2, 3, 4, 5, 'kutta'}\n",
      "False\n"
     ]
    }
   ],
   "source": [
    "s = {1,2,4,4,5}; # can't contain duplicates it will print only unique\n",
    "print(s)\n",
    "lis = [12,3,4,4,5,'hello'];\n",
    "nset = set(lis);\n",
    "print(nset)\n",
    "nset.add('kutta'); # adding element into set\n",
    "nset.remove(12); # remove an element from set\n",
    "print(48 in nset) ; # verify element in set\n",
    "ans = s & nset ; # give intersection of set\n",
    "print(ans)\n",
    "un = s.union(nset); #union set\n",
    "print(un)\n",
    "sub = s.issubset(nset) # check if  one set is subset of other ;\n",
    "print(sub)"
   ]
  },
  {
   "cell_type": "code",
   "execution_count": null,
   "metadata": {},
   "outputs": [],
   "source": []
  }
 ],
 "metadata": {
  "kernelspec": {
   "display_name": "Python 3",
   "language": "python",
   "name": "python3"
  },
  "language_info": {
   "codemirror_mode": {
    "name": "ipython",
    "version": 3
   },
   "file_extension": ".py",
   "mimetype": "text/x-python",
   "name": "python",
   "nbconvert_exporter": "python",
   "pygments_lexer": "ipython3",
   "version": "3.13.2"
  }
 },
 "nbformat": 4,
 "nbformat_minor": 2
}
