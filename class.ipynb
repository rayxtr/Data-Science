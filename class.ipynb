{
 "cells": [
  {
   "cell_type": "markdown",
   "id": "32dcc4c5",
   "metadata": {},
   "source": [
    "Class"
   ]
  },
  {
   "cell_type": "markdown",
   "id": "48b72d0b",
   "metadata": {},
   "source": [
    "A class is like an object constructor or a blueprint for creating objects"
   ]
  },
  {
   "cell_type": "code",
   "execution_count": 1,
   "id": "f66cb092",
   "metadata": {},
   "outputs": [
    {
     "name": "stdout",
     "output_type": "stream",
     "text": [
      "10\n"
     ]
    }
   ],
   "source": [
    "class myclass:\n",
    "    x =10;\n",
    "p1 =myclass();\n",
    "print(p1.x)"
   ]
  },
  {
   "cell_type": "code",
   "execution_count": 8,
   "id": "43a52efd",
   "metadata": {},
   "outputs": [
    {
     "name": "stdout",
     "output_type": "stream",
     "text": [
      "red\n",
      "31.400000000000002\n"
     ]
    }
   ],
   "source": [
    "import matplotlib.pyplot as plt\n",
    "\n",
    "class Circle:\n",
    "    def __init__(self, r, c):\n",
    "        self.radius = r\n",
    "        self.color = c\n",
    "\n",
    "    def add(self, r):\n",
    "        self.radius = r\n",
    "        return 2 * 3.14 * r\n",
    "\n",
    "    \n",
    "\n",
    "c1 = Circle(10, 'red')\n",
    "print(c1.color)\n",
    "p = c1.add(5)\n",
    "print(p)\n",
    "\n",
    "\n"
   ]
  },
  {
   "cell_type": "code",
   "execution_count": null,
   "id": "21862d57",
   "metadata": {},
   "outputs": [],
   "source": []
  }
 ],
 "metadata": {
  "kernelspec": {
   "display_name": "Python 3",
   "language": "python",
   "name": "python3"
  },
  "language_info": {
   "codemirror_mode": {
    "name": "ipython",
    "version": 3
   },
   "file_extension": ".py",
   "mimetype": "text/x-python",
   "name": "python",
   "nbconvert_exporter": "python",
   "pygments_lexer": "ipython3",
   "version": "3.13.2"
  }
 },
 "nbformat": 4,
 "nbformat_minor": 5
}
