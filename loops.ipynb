{
 "cells": [
  {
   "cell_type": "code",
   "execution_count": null,
   "metadata": {},
   "outputs": [
    {
     "name": "stdout",
     "output_type": "stream",
     "text": [
      "0\n",
      "1\n",
      "2\n",
      "3\n",
      "4\n",
      "2\n",
      "3\n",
      "4\n",
      "5\n",
      "5\n"
     ]
    }
   ],
   "source": [
    "a = (2,3,4,5,5);\n",
    "for i in range(len(a)):\n",
    "    print(i) # print index becaue using range\n",
    "\n",
    "    #but if using directly name of tuple\n",
    "for x in a:\n",
    "    print(x)  # print elements directly.\n"
   ]
  },
  {
   "cell_type": "code",
   "execution_count": 4,
   "metadata": {},
   "outputs": [
    {
     "name": "stdout",
     "output_type": "stream",
     "text": [
      "4\n",
      "5\n",
      "6\n",
      "7\n"
     ]
    }
   ],
   "source": [
    "a = (2,3,4,5);\n",
    "i =0;\n",
    "while(i<len(a)):\n",
    "    print(a[i]+2);\n",
    "    i = i+1;"
   ]
  },
  {
   "cell_type": "code",
   "execution_count": null,
   "metadata": {},
   "outputs": [
    {
     "name": "stdout",
     "output_type": "stream",
     "text": [
      "[1, 3, 4, 5, 6, 6]\n"
     ]
    }
   ],
   "source": [
    "arr = [1, 5, 6, 3, 4, 6]\n",
    "\n",
    "n = len(arr)\n",
    "\n",
    "for i in range(n):\n",
    "    for j in range(n - 1 - i):  # reduce comparisons each pass\n",
    "        if arr[j] > arr[j + 1]:\n",
    "            arr[j], arr[j + 1] = arr[j + 1], arr[j]\n",
    "\n",
    "print(arr)\n",
    "\n",
    "\n"
   ]
  },
  {
   "cell_type": "code",
   "execution_count": null,
   "metadata": {},
   "outputs": [],
   "source": [
    "import numpy as np\n",
    "abc = [2,3,2,3,3,6,7]\n",
    "\n",
    "for i in range(0,len(abc),2):  # increment int\n",
    "    print(i)\n",
    "\n",
    "for i in np.arange(0,len(abc),0.5): # increment float\n",
    "    print(i)     "
   ]
  },
  {
   "cell_type": "code",
   "execution_count": 2,
   "metadata": {},
   "outputs": [
    {
     "name": "stdout",
     "output_type": "stream",
     "text": [
      "43\n",
      "4\n",
      "10\n",
      "22\n",
      "12\n",
      "43\n",
      "4\n",
      "10\n",
      "22\n",
      "12\n",
      "860 NO\n",
      "200 NO\n",
      "240 NO\n",
      "[22, 12, 4, 10, 43]\n"
     ]
    }
   ],
   "source": [
    "h = [12,22,10,4,43]\n",
    "\n",
    "for i in reversed(h):\n",
    "    print(i)    # start printing from last index. or reverse\n",
    "\n",
    "for i in h[::-1]:   # same work\n",
    "    print (i)    \n",
    "\n",
    "for i in range(len(h)-1,-1,-2):\n",
    "    print(h[i]*20,'NO')\n",
    "\n",
    "for i in range(0, len(h) - 1, 2):\n",
    "    t = h[i]\n",
    "    h[i] = h[i + 1]\n",
    "    h[i + 1] = t\n",
    "\n",
    "print(h)\n",
    "\n"
   ]
  },
  {
   "cell_type": "code",
   "execution_count": null,
   "metadata": {},
   "outputs": [],
   "source": []
  }
 ],
 "metadata": {
  "kernelspec": {
   "display_name": "Python 3",
   "language": "python",
   "name": "python3"
  },
  "language_info": {
   "codemirror_mode": {
    "name": "ipython",
    "version": 3
   },
   "file_extension": ".py",
   "mimetype": "text/x-python",
   "name": "python",
   "nbconvert_exporter": "python",
   "pygments_lexer": "ipython3",
   "version": "3.13.2"
  }
 },
 "nbformat": 4,
 "nbformat_minor": 2
}
