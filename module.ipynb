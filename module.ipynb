{
 "cells": [
  {
   "cell_type": "markdown",
   "id": "05ec884b",
   "metadata": {},
   "source": [
    "## Modules\n",
    "\n",
    "# Module is nothing but just a python file which has functions or code which can be reuse in another python program.\n",
    "# Uses---- 1 - avoid repetition of code. 2 - improve readablity 3 - share common utilities across projects.\n",
    "# Types of Modules  -- 1- Built-in module comes with python \n",
    "    2- user Defined modules-  created own files \n",
    "    3 - Third party modules -- can be install by pip "
   ]
  },
  {
   "cell_type": "code",
   "execution_count": 12,
   "id": "e5489de1",
   "metadata": {},
   "outputs": [
    {
     "name": "stdout",
     "output_type": "stream",
     "text": [
      "32\n",
      "4.69041575982343\n",
      "120\n",
      "64.0\n",
      "3437.746770784939\n",
      "772\n",
      "0.758555939865437\n",
      "3\n"
     ]
    }
   ],
   "source": [
    "import math\n",
    "import random as r\n",
    "import myfile as f\n",
    "print(f.add(23,4,5))\n",
    "print(math.sqrt(22))\n",
    "print (math.factorial(5))\n",
    "print(math.pow(4,3))\n",
    "print(math.degrees(60))\n",
    "print(r.randint(1,1000))\n",
    "print(r.random())\n",
    "print(r.choice([2,3,4]))"
   ]
  },
  {
   "cell_type": "code",
   "execution_count": 16,
   "id": "7669a52a",
   "metadata": {},
   "outputs": [
    {
     "name": "stdout",
     "output_type": "stream",
     "text": [
      "2023-03-12\n",
      "12/03/23\n"
     ]
    }
   ],
   "source": [
    "import datetime as d\n",
    "date = d.date(2023,3,12)\n",
    "print(date)\n",
    "print(date.strftime(\"%d/%m/%y\"))"
   ]
  },
  {
   "cell_type": "code",
   "execution_count": 24,
   "id": "62405fdb",
   "metadata": {},
   "outputs": [
    {
     "name": "stdout",
     "output_type": "stream",
     "text": [
      "nt\n"
     ]
    }
   ],
   "source": [
    "import os \n",
    "#os.mkdir('NEW')\n",
    "#os.startfile('file1.xlsx')\n",
    "print(os.name)"
   ]
  },
  {
   "cell_type": "code",
   "execution_count": null,
   "id": "87af9ea4",
   "metadata": {},
   "outputs": [
    {
     "name": "stdout",
     "output_type": "stream",
     "text": [
      "['50']\n"
     ]
    }
   ],
   "source": [
    "import re\n",
    "\n",
    "pattern = r\"\\d+\"\n",
    "text = \"Hello you have 50 apples\"\n",
    "matches = re.findall(pattern,text)\n",
    "print(matches)\n"
   ]
  },
  {
   "cell_type": "code",
   "execution_count": 7,
   "id": "9ac69fc2",
   "metadata": {},
   "outputs": [
    {
     "name": "stdout",
     "output_type": "stream",
     "text": [
      "[{'name': 'Ashwin', 'age': 34, 'designation': 'CEO'}, {'name': 'Majeed', 'age': 74, 'designation': 'OPD'}]\n",
      "[{\"name\": \"Ashwin\", \"age\": 34, \"designation\": \"CEO\"}, {\"name\": \"Majeed\", \"age\": 74, \"designation\": \"OPD\"}]\n"
     ]
    }
   ],
   "source": [
    "import json\n",
    "v = [\n",
    "    {\"name\":\"Ashwin\",\"age\":34,\"designation\":'CEO'},\n",
    "    {\"name\":\"Majeed\",\"age\":74,\"designation\":\"OPD\"}\n",
    "]\n",
    "\n",
    "with open(\"data.json\", \"w\") as f:\n",
    "    json.dump(v, f)\n",
    "\n",
    "with open(\"data.json\",'r') as s:\n",
    "    data = json.load(s)\n",
    "    print(data)\n",
    "\n",
    "json_str = json.dumps(v)      # Convert to json string\n",
    "print(json_str)\n",
    "\n",
    "parsed = json.loads(json_str)  # Convert back to python dic."
   ]
  },
  {
   "cell_type": "code",
   "execution_count": null,
   "id": "385db469",
   "metadata": {},
   "outputs": [],
   "source": []
  }
 ],
 "metadata": {
  "kernelspec": {
   "display_name": "Python 3",
   "language": "python",
   "name": "python3"
  },
  "language_info": {
   "codemirror_mode": {
    "name": "ipython",
    "version": 3
   },
   "file_extension": ".py",
   "mimetype": "text/x-python",
   "name": "python",
   "nbconvert_exporter": "python",
   "pygments_lexer": "ipython3",
   "version": "3.13.2"
  }
 },
 "nbformat": 4,
 "nbformat_minor": 5
}
