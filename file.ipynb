{
 "cells": [
  {
   "cell_type": "markdown",
   "id": "d224a3d2",
   "metadata": {},
   "source": [
    "##Reading File with Open"
   ]
  },
  {
   "cell_type": "code",
   "execution_count": 32,
   "id": "d8d31f0f",
   "metadata": {},
   "outputs": [
    {
     "name": "stdout",
     "output_type": "stream",
     "text": [
      "Hello My n\n"
     ]
    }
   ],
   "source": [
    "with open(\"helllo.txt\",\"r\") as f2:    # use of with statement is better practice to open a file becuase it automatically closes the file\n",
    "   # filest = f2.read();\n",
    "    # print(filest);\n",
    "    # print(f2.closed);\n",
    "    # print(filest)\n",
    "    # line = f2.readline()  # read first line \n",
    "    # line2 = f2.readline()    # read second line   it called by sequence\n",
    "    # for line in f2:     # each line over loop\n",
    "    #  print(line)\n",
    "    specialline = f2.readline(10)  # till number of character\n",
    "    print(specialline)\n",
    "   \n",
    "\n",
    "\n",
    "\n",
    "# f1 = open(\"helllo.txt\",\"r\");  # to normal open the file \n",
    "# ff = f1.read();\n",
    "# print(ff)\n",
    "# print(f1.closed);\n",
    "# print(filest)\n"
   ]
  },
  {
   "cell_type": "code",
   "execution_count": null,
   "id": "46e419e2",
   "metadata": {},
   "outputs": [],
   "source": [
    "with open(\"write.txt\",\"w\") as f3:   # Created a file  or we can write on existing file but it will remove all previous thing on file\n",
    "    f3.write(\"AI is dangerous:::::\\n\")\n",
    "    f3.write(\"Yellow\\n\")\n",
    "\n",
    "with open(\"write.txt\",\"a\") as f4:   # it will not create a new file but add lines into existing file without removing previous text.\n",
    "    f4.write(\"this will go to next line \")   \n",
    "\n",
    "\n",
    "##Write data of one file into other file \n",
    "with open(\"helllo.txt\",\"r\") as readfile:\n",
    "    with open(\"newfile\",\"w\")as writefile:\n",
    "        for line in readfile:\n",
    "            writefile.write(line)"
   ]
  },
  {
   "cell_type": "code",
   "execution_count": null,
   "id": "92f9de46",
   "metadata": {},
   "outputs": [],
   "source": []
  }
 ],
 "metadata": {
  "kernelspec": {
   "display_name": "Python 3",
   "language": "python",
   "name": "python3"
  },
  "language_info": {
   "codemirror_mode": {
    "name": "ipython",
    "version": 3
   },
   "file_extension": ".py",
   "mimetype": "text/x-python",
   "name": "python",
   "nbconvert_exporter": "python",
   "pygments_lexer": "ipython3",
   "version": "3.13.2"
  }
 },
 "nbformat": 4,
 "nbformat_minor": 5
}
